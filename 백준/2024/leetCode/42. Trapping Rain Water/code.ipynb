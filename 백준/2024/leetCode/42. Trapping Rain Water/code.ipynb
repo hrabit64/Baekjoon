{
 "cells": [
  {
   "cell_type": "markdown",
   "metadata": {},
   "source": [
    "# 3273. 두 수의 합\n",
    "(https://www.acmicpc.net/problem/3273)\n",
    "\n",
    "## 문제\n",
    "n개의 서로 다른 양의 정수 a1, a2, ..., an으로 이루어진 수열이 있다. ai의 값은 1보다 크거나 같고, 1000000보다 작거나 같은 자연수이다. 자연수 x가 주어졌을 때, ai + aj = x (1 ≤ i < j ≤ n)을 만족하는 (ai, aj)쌍의 수를 구하는 프로그램을 작성하시오.\n",
    "\n",
    "## 입력\n",
    "첫째 줄에 수열의 크기 n이 주어진다. 다음 줄에는 수열에 포함되는 수가 주어진다. 셋째 줄에는 x가 주어진다. (1 ≤ n ≤ 100000, 1 ≤ x ≤ 2000000)\n",
    "\n",
    "## 출력\n",
    "문제의 조건을 만족하는 쌍의 개수를 출력한다."
   ]
  },
  {
   "cell_type": "code",
   "execution_count": 31,
   "metadata": {},
   "outputs": [
    {
     "name": "stdout",
     "output_type": "stream",
     "text": [
      "1 4\n",
      "2 3\n",
      "2\n"
     ]
    }
   ],
   "source": [
    "def find_pair(nums:list,x:int) -> int:\n",
    "\n",
    "    nums_dict = {num : i for i,num in enumerate(nums)}\n",
    "    pairs = 0\n",
    "    p = 0\n",
    "\n",
    "    while p < len(nums):\n",
    "\n",
    "        target = nums[p]\n",
    "\n",
    "        if(target < 0): \n",
    "            p += 1\n",
    "            continue\n",
    "\n",
    "        del nums_dict[target]\n",
    "        \n",
    "        target_key = x - target\n",
    "        \n",
    "        target_index = nums_dict.get(target_key)\n",
    "        \n",
    "        if target_index:\n",
    "            pairs += 1\n",
    "            nums[target_index] = -1\n",
    "        \n",
    "        \n",
    "        p += 1\n",
    "        \n",
    "            \n",
    "\n",
    "    return pairs\n",
    "\n",
    "_ = input()\n",
    "nums = list(map(lambda x: int(x),input().split(\" \")))\n",
    "x = int(input())\n",
    "print(find_pair(nums,x))"
   ]
  }
 ],
 "metadata": {
  "kernelspec": {
   "display_name": "Python 3",
   "language": "python",
   "name": "python3"
  },
  "language_info": {
   "codemirror_mode": {
    "name": "ipython",
    "version": 3
   },
   "file_extension": ".py",
   "mimetype": "text/x-python",
   "name": "python",
   "nbconvert_exporter": "python",
   "pygments_lexer": "ipython3",
   "version": "3.10.12"
  }
 },
 "nbformat": 4,
 "nbformat_minor": 2
}
