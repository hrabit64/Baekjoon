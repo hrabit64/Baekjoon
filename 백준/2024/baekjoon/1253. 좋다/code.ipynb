{
 "cells": [
  {
   "cell_type": "code",
   "execution_count": null,
   "metadata": {},
   "outputs": [],
   "source": []
  },
  {
   "cell_type": "code",
   "execution_count": 29,
   "metadata": {},
   "outputs": [
    {
     "name": "stdout",
     "output_type": "stream",
     "text": [
      "{5: [0], 0: [1], -5: [2]}\n",
      "1\n"
     ]
    }
   ],
   "source": [
    "def find_good(nums:list) -> int:\n",
    "    nums.sort(reverse=True)\n",
    "\n",
    "    nums_dict = {}\n",
    "\n",
    "    for i, num in enumerate(nums):\n",
    "        if num not in nums_dict.keys():\n",
    "            nums_dict[num] = [i]\n",
    "        else:\n",
    "            nums_dict[num].append(i)\n",
    "\n",
    "    good_nums = 0\n",
    "    for i in range(len(nums)):\n",
    "\n",
    "        target = nums[i]\n",
    "\n",
    "        for j,value in enumerate(nums):\n",
    "            \n",
    "            #자기 자신일 경우\n",
    "            if j == i:\n",
    "                continue\n",
    "            \n",
    "            dict_val = nums_dict.get(target - value)\n",
    "            \n",
    "            if dict_val:\n",
    "\n",
    "                is_good = False\n",
    "\n",
    "                for val in dict_val:\n",
    "                    if j == val or i == val:\n",
    "                        continue\n",
    "                    is_good = True\n",
    "                    \n",
    "                    break\n",
    "\n",
    "                if is_good:\n",
    "                    good_nums += 1 \n",
    "                    break   \n",
    "    \n",
    "    return good_nums\n",
    "\n",
    "_ = input()\n",
    "nums = list(map(lambda x: int(x),input().split(\" \")))\n",
    "if len(nums) < 3:\n",
    "    print(0)\n",
    "else:\n",
    "    print(find_good(nums))\n",
    "    "
   ]
  },
  {
   "cell_type": "markdown",
   "metadata": {},
   "source": [
    "2\n",
    "\n",
    "0 0\n",
    "\n",
    "out : 0\n",
    "\n",
    "3\n",
    "\n",
    "0 3 3\n",
    "\n",
    "out : 2\n",
    "\n",
    "2\n",
    "\n",
    "0 1\n",
    "\n",
    "out : 0\n",
    "\n",
    "3\n",
    "\n",
    "0 0 0\n",
    "\n",
    "out : 3\n",
    "\n",
    "4\n",
    "\n",
    "0 1 2 3\n",
    "\n",
    "out : 1\n",
    "\n",
    "3\n",
    "\n",
    "0 -5 5\n",
    "\n",
    "out : 1"
   ]
  }
 ],
 "metadata": {
  "kernelspec": {
   "display_name": "Python 3",
   "language": "python",
   "name": "python3"
  },
  "language_info": {
   "codemirror_mode": {
    "name": "ipython",
    "version": 3
   },
   "file_extension": ".py",
   "mimetype": "text/x-python",
   "name": "python",
   "nbconvert_exporter": "python",
   "pygments_lexer": "ipython3",
   "version": "3.10.12"
  }
 },
 "nbformat": 4,
 "nbformat_minor": 2
}
