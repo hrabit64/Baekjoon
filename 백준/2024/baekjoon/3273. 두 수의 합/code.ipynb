{
 "cells": [
  {
   "cell_type": "code",
   "execution_count": null,
   "metadata": {},
   "outputs": [],
   "source": [
    "def find_pair(nums:list,x:int) -> int:\n",
    "    nums_dict = {num : i for i,num in enumerate(nums)}\n",
    "    pairs = 0\n",
    "    p = 0\n",
    "\n",
    "    while p < len(nums):\n",
    "\n",
    "        target = nums[p]\n",
    "        \n",
    "\n",
    "        if(target < 0): \n",
    "            p += 1\n",
    "            continue\n",
    "\n",
    "        del nums_dict[target]\n",
    "        target_key = x - target\n",
    "        \n",
    "        target_index = nums_dict.get(target_key)\n",
    "        \n",
    "        if target_index:\n",
    "            pairs += 1\n",
    "            nums[target_index] = -1\n",
    "        \n",
    "        \n",
    "        p += 1\n",
    "        \n",
    "            \n",
    "\n",
    "    return pairs\n",
    "\n",
    "_ = input()\n",
    "nums = list(map(lambda x: int(x),input().split(\" \")))\n",
    "x = int(input())\n",
    "print(find_pair(nums,x))"
   ]
  }
 ],
 "metadata": {
  "language_info": {
   "name": "python"
  }
 },
 "nbformat": 4,
 "nbformat_minor": 2
}
