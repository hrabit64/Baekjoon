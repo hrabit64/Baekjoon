{
 "cells": [
  {
   "cell_type": "markdown",
   "metadata": {},
   "source": [
    "# 압축\n",
    "(https://www.acmicpc.net/problem/1662)\n",
    "\n",
    "## 문제\n",
    "압축되지 않은 문자열 S가 주어졌을 때, 이 문자열중 어떤 부분 문자열은 K(Q)와 같이 압축 할 수 있다. K는 한자리 정수이고, Q는 0자리 이상의 문자열이다. 이 Q라는 문자열이 K번 반복된다는 뜻이다. 압축된 문자열이 주어졌을 때, 이 문자열을 다시 압축을 푸는 프로그램을 작성하시오.\n",
    "\n",
    "## 입력\n",
    "첫째 줄에 압축된 문자열 S가 들어온다. S의 길이는 최대 50이다. 문자열은 (, ), 0-9사이의 숫자로만 들어온다.\n",
    "\n",
    "## 출력\n",
    "첫째 줄에 압축되지 않은 문자열의 길이를 출력한다. 이 값은 2,147,473,647 보다 작거나 같다.\n",
    "\n"
   ]
  },
  {
   "cell_type": "code",
   "execution_count": 32,
   "metadata": {},
   "outputs": [
    {
     "name": "stdout",
     "output_type": "stream",
     "text": [
      "7\n"
     ]
    }
   ],
   "source": [
    "def uncompress_str(s:str) -> int:\n",
    "    \n",
    "    stack = []\n",
    "\n",
    "    for c in s:\n",
    "        \n",
    "        if c != \")\":\n",
    "\n",
    "            stack.append(c)\n",
    "\n",
    "        else:\n",
    "            comp_s = []\n",
    "            \n",
    "            while stack[-1] != \"(\":\n",
    "                comp_s.append(stack.pop())\n",
    "\n",
    "            stack.pop()\n",
    "\n",
    "            n = int(stack.pop())\n",
    "\n",
    "            comp_s_len = 0\n",
    "\n",
    "            for comp_c in comp_s:\n",
    "                if comp_c[0] != \"*\":\n",
    "                    comp_s_len += 1\n",
    "                else:\n",
    "                    comp_s_len += int(comp_c[1:])\n",
    "\n",
    "            stack.append(f\"*{comp_s_len*n}\")\n",
    "\n",
    "        fin_s = 0\n",
    "\n",
    "    while stack:\n",
    "        fin_c = stack.pop()\n",
    "\n",
    "        if fin_c[0] != \"*\":\n",
    "            fin_s += 1\n",
    "        else:\n",
    "            fin_s += int(fin_c[1:])\n",
    "\n",
    "    return fin_s\n",
    "            \n",
    "s = input()\n",
    "print(uncompress_str(s))"
   ]
  }
 ],
 "metadata": {
  "kernelspec": {
   "display_name": "Python 3",
   "language": "python",
   "name": "python3"
  },
  "language_info": {
   "codemirror_mode": {
    "name": "ipython",
    "version": 3
   },
   "file_extension": ".py",
   "mimetype": "text/x-python",
   "name": "python",
   "nbconvert_exporter": "python",
   "pygments_lexer": "ipython3",
   "version": "3.10.12"
  }
 },
 "nbformat": 4,
 "nbformat_minor": 2
}
